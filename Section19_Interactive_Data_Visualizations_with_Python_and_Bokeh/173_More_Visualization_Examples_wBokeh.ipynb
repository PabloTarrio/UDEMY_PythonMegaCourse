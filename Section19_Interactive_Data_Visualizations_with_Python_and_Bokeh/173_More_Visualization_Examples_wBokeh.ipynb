{
 "cells": [
  {
   "cell_type": "markdown",
   "id": "8065ebcc",
   "metadata": {},
   "source": [
    "SECTION 19 - Lesson 173 - More Visualization Examples with Bokeh"
   ]
  },
  {
   "cell_type": "code",
   "execution_count": null,
   "id": "5138e81f",
   "metadata": {},
   "outputs": [
    {
     "name": "stderr",
     "output_type": "stream",
     "text": [
      "BokehDeprecationWarning: 'circle() method with size value' was deprecated in Bokeh 3.4.0 and will be removed, use 'scatter(size=...) instead' instead.\n"
     ]
    }
   ],
   "source": [
    "from bokeh.plotting import figure, output_file, show\n",
    "\n",
    "p = figure(width= 500, height= 400, tools= 'pan, reset, box_zoom')\n",
    "\n",
    "p.title.text = \"Earthquakes\"\n",
    "p.title.text_color = \"Orange\"\n",
    "p.title.text_font = \"times\"\n",
    "p.title.text_font_style = \"italic\"\n",
    "p.yaxis.minor_tick_line_color = \"Yellow\"\n",
    "p.xaxis.axis_label = \"Times\"\n",
    "p.yaxis.axis_label = \"Value\"\n",
    "\n",
    "p.line([1,2,3,4,5], [5,6,5,5,3], line_width= 2, color=\"red\", alpha=0.5)\n",
    "p.circle([i*2 for i in [1,2,3,4,5]], [5,6,5,5,3], size= 8, color=\"olive\", alpha=0.5)\n",
    "\n",
    "\n",
    "output_file (\"./output/Scatter_MultiPlotting.html\")\n",
    "show(p)\n",
    "\n",
    "\n"
   ]
  },
  {
   "cell_type": "code",
   "execution_count": null,
   "id": "daae1ebe",
   "metadata": {},
   "outputs": [],
   "source": []
  }
 ],
 "metadata": {
  "kernelspec": {
   "display_name": "Python 3",
   "language": "python",
   "name": "python3"
  },
  "language_info": {
   "codemirror_mode": {
    "name": "ipython",
    "version": 3
   },
   "file_extension": ".py",
   "mimetype": "text/x-python",
   "name": "python",
   "nbconvert_exporter": "python",
   "pygments_lexer": "ipython3",
   "version": "3.12.6"
  }
 },
 "nbformat": 4,
 "nbformat_minor": 5
}
