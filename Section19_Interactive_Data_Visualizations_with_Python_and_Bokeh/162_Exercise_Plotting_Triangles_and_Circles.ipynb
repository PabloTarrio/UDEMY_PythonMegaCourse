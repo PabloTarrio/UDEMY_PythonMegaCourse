{
 "cells": [
  {
   "cell_type": "code",
   "execution_count": 13,
   "id": "0f338916",
   "metadata": {},
   "outputs": [
    {
     "name": "stderr",
     "output_type": "stream",
     "text": [
      "BokehDeprecationWarning: 'triangle() method' was deprecated in Bokeh 3.4.0 and will be removed, use \"scatter(marker='triangle', ...) instead\" instead.\n"
     ]
    }
   ],
   "source": [
    "# Write two code snippets, each producing the following graphs.\n",
    "# The first graph has triangles as glyphs and the second graph has circles as glyphs. \n",
    "# You can use triangle , and circle  instead of line. \n",
    "# You should have the same coordinates, as shown in the plots below.\n",
    "\n",
    "# Importar BIBLIOTECAS\n",
    "from bokeh.plotting import figure\n",
    "from bokeh.io import output_file, show\n",
    "\n",
    "# Prepare some data\n",
    "x = [3, 7.5, 10]\n",
    "y = [3, 6, 9]\n",
    "\n",
    "# Prepare the output file\n",
    "output_file(\"./output/Ex1_TriangleCircle.html\")\n",
    "\n",
    "# Create figure object\n",
    "f_triangle = figure()\n",
    "\n",
    "# Add a line renderer with legen and line thickness to the plot\n",
    "#       Como parámetros pasamos las coordenadas del centro del triángulo y el tamaña del mismo (default = 4)\n",
    "f_triangle.triangle(x= x, y= y, size= 16)\n",
    "show(f_triangle)"
   ]
  },
  {
   "cell_type": "code",
   "execution_count": null,
   "id": "456f3b51",
   "metadata": {},
   "outputs": [],
   "source": [
    "# Importar BIBLIOTECAS\n",
    "#Making a basic Bokeh line graph\n",
    " \n",
    "#importing Bokeh\n",
    "from bokeh.plotting import figure\n",
    "from bokeh.io import output_file, show\n",
    " \n",
    "#prepare some data\n",
    "x=[3,7.5,10]\n",
    "y=[3,6,9]\n",
    " \n",
    "#prepare the output file\n",
    "output_file(\"Line.html\")\n",
    " \n",
    "#create a figure object\n",
    "f_circle=figure()\n",
    " \n",
    "#create circle plot (coordenadas del centro del círculo y radio)\n",
    "f_circle.circle(x = x, y = y, radius =1)\n",
    " \n",
    "#write the plot in the figure object\n",
    "show(f)"
   ]
  }
 ],
 "metadata": {
  "kernelspec": {
   "display_name": "UDEMY_PythonMegaCourse.venv",
   "language": "python",
   "name": "python3"
  },
  "language_info": {
   "codemirror_mode": {
    "name": "ipython",
    "version": 3
   },
   "file_extension": ".py",
   "mimetype": "text/x-python",
   "name": "python",
   "nbconvert_exporter": "python",
   "pygments_lexer": "ipython3",
   "version": "3.13.3"
  }
 },
 "nbformat": 4,
 "nbformat_minor": 5
}
