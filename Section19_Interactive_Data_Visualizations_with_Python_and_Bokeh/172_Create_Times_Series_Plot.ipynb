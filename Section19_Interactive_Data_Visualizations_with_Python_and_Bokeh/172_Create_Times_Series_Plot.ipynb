{
 "cells": [
  {
   "cell_type": "markdown",
   "id": "8065ebcc",
   "metadata": {},
   "source": [
    "SECTION 19 - Lesson 172 - Creating a Time-series Plot"
   ]
  },
  {
   "cell_type": "code",
   "execution_count": null,
   "id": "5138e81f",
   "metadata": {},
   "outputs": [
    {
     "name": "stderr",
     "output_type": "stream",
     "text": [
      "C:\\Users\\pablo\\AppData\\Local\\Temp\\ipykernel_7440\\1878718603.py:7: UserWarning: Could not infer format, so each element will be parsed individually, falling back to `dateutil`. To ensure parsing is consistent and as-expected, please specify a format.\n",
      "  df = pandas.read_csv(\"./resources/adbe.csv\", parse_dates=[\"Date\"])\n"
     ]
    }
   ],
   "source": [
    "# LIBRERÍAS Y BIBLIOTECAS\n",
    "import pandas\n",
    "from bokeh.plotting import figure, output_file, show\n",
    "\n",
    "# GOOGLE FINANCE ha desactivado la API con lo que debemos realizar la importación desde el archivo local.\n",
    "#df = pandas.read_csv(\"http://www.google.com/finance/historical?q=NASDAQ:ADBE&startdate=Jan+01%2C+2009&enddate=Aug+2%2C+2012&output=csv\", parse_dates= [\"Date\"])\n",
    "df = pandas.read_csv(\"./resources/adbe.csv\", parse_dates=[\"Date\"])\n",
    "\n",
    "p = figure (width= 1250,\n",
    "           height= 250,\n",
    "           x_axis_type= \"datetime\",\n",
    "           sizing_mode=\"stretch_both\")\n",
    "\n",
    "p.line (df[\"Date\"],\n",
    "           df[\"Close\"],\n",
    "           color= \"Blue\",\n",
    "           line_width= 3,\n",
    "           alpha= 0.5)\n",
    "\n",
    "output_file (\"./output/timeseries.html\")\n",
    "show(p)\n",
    "\n",
    "\n"
   ]
  }
 ],
 "metadata": {
  "kernelspec": {
   "display_name": "Python 3",
   "language": "python",
   "name": "python3"
  },
  "language_info": {
   "codemirror_mode": {
    "name": "ipython",
    "version": 3
   },
   "file_extension": ".py",
   "mimetype": "text/x-python",
   "name": "python",
   "nbconvert_exporter": "python",
   "pygments_lexer": "ipython3",
   "version": "3.12.6"
  }
 },
 "nbformat": 4,
 "nbformat_minor": 5
}
