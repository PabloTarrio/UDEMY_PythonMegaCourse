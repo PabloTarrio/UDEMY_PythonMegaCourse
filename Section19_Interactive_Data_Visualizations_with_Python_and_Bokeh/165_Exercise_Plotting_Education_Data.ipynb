{
 "cells": [
  {
   "cell_type": "markdown",
   "id": "f5b3a69a",
   "metadata": {},
   "source": [
    "The following line graph shows the percentage of women who have received a bachelor's degree over the years in the USA. The graph was produced from the Year  and Engineering columns of the CSV file provided in the following link:\n",
    "\n",
    "https://pythonizing.github.io/data/bachelors.csv\n",
    "\n",
    "Try to reproduce the graph using Bokeh."
   ]
  },
  {
   "cell_type": "code",
   "execution_count": 8,
   "id": "4e80374a",
   "metadata": {},
   "outputs": [],
   "source": [
    "# BIBLIOTECAS Y LIBRERÍAS\n",
    "from bokeh.plotting import figure\n",
    "from bokeh.io import output_file, show\n",
    "import pandas\n",
    "\n",
    "# Preparación de los datos para graficarlos\n",
    "# Creación del objeto pandas y extracción de las columnas \"Year\" y \"Engineering\" relevantes para mostrar en el gráfico\n",
    "df = pandas.read_csv(\"./resources/bachelors.csv\")\n",
    "year = df[\"Year\"]\n",
    "women_percentage = df[\"Engineering\"]\n",
    "\n",
    "# Bokeh - Archivo de salida\n",
    "output_file (\"./output/women_as_bachelors.html\")\n",
    "\n",
    "# Bokeh - Objeto figura\n",
    "f = figure()\n",
    "\n",
    "# Bokeh - Graficamos como una linea con ejes x = \"Year\" y = \"Engineering\"\n",
    "f.line(x= year, y= women_percentage)\n",
    "\n",
    "# Mostrar el objeto figura en el archivo de salida\n",
    "show(f)"
   ]
  }
 ],
 "metadata": {
  "kernelspec": {
   "display_name": "UDEMY_PythonMegaCourse.venv",
   "language": "python",
   "name": "python3"
  },
  "language_info": {
   "codemirror_mode": {
    "name": "ipython",
    "version": 3
   },
   "file_extension": ".py",
   "mimetype": "text/x-python",
   "name": "python",
   "nbconvert_exporter": "python",
   "pygments_lexer": "ipython3",
   "version": "3.13.3"
  }
 },
 "nbformat": 4,
 "nbformat_minor": 5
}
