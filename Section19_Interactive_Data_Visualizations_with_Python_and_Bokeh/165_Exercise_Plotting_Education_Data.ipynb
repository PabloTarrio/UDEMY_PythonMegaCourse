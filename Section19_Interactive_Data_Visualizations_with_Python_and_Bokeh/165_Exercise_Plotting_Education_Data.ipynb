{
 "cells": [
  {
   "cell_type": "markdown",
   "id": "f5b3a69a",
   "metadata": {},
   "source": [
    "The following line graph shows the percentage of women who have received a bachelor's degree over the years in the USA. The graph was produced from the Year  and Engineering columns of the CSV file provided in the following link:\n",
    "\n",
    "https://pythonizing.github.io/data/bachelors.csv\n",
    "\n",
    "Try to reproduce the graph using Bokeh."
   ]
  },
  {
   "cell_type": "code",
   "execution_count": 5,
   "id": "4e80374a",
   "metadata": {},
   "outputs": [],
   "source": [
    "# BIBLIOTECAS Y LIBRERÍAS\n",
    "from bokeh.plotting import figure\n",
    "from bokeh.io import output_file, show\n",
    "import pandas\n",
    "\n",
    "df = pandas.read_csv(\"./resources/bachelors.csv\")\n",
    "year = df[\"Year\"]\n",
    "women_percentage = df[\"Engineering\"]\n",
    "\n"
   ]
  },
  {
   "cell_type": "code",
   "execution_count": null,
   "id": "159732a1",
   "metadata": {},
   "outputs": [
    {
     "data": {
      "text/plain": [
       "0      0.8\n",
       "1      1.0\n",
       "2      1.2\n",
       "3      1.6\n",
       "4      2.2\n",
       "5      3.2\n",
       "6      4.5\n",
       "7      6.8\n",
       "8      8.4\n",
       "9      9.4\n",
       "10    10.3\n",
       "11    11.6\n",
       "12    12.4\n",
       "13    13.1\n",
       "14    13.5\n",
       "15    13.5\n",
       "16    13.9\n",
       "17    14.0\n",
       "18    13.9\n",
       "19    14.1\n",
       "20    14.1\n",
       "21    14.0\n",
       "22    14.5\n",
       "23    14.9\n",
       "24    15.7\n",
       "25    16.2\n",
       "26    16.7\n",
       "27    17.0\n",
       "28    17.8\n",
       "29    18.6\n",
       "30    18.4\n",
       "31    19.0\n",
       "32    18.7\n",
       "33    18.8\n",
       "34    18.2\n",
       "35    17.9\n",
       "36    16.8\n",
       "37    16.8\n",
       "38    16.5\n",
       "39    16.8\n",
       "40    17.2\n",
       "41    17.5\n",
       "Name: Engineering, dtype: float64"
      ]
     },
     "execution_count": 6,
     "metadata": {},
     "output_type": "execute_result"
    }
   ],
   "source": [
    "df[\"Year\"]"
   ]
  }
 ],
 "metadata": {
  "kernelspec": {
   "display_name": "UDEMY_PythonMegaCourse.venv",
   "language": "python",
   "name": "python3"
  },
  "language_info": {
   "codemirror_mode": {
    "name": "ipython",
    "version": 3
   },
   "file_extension": ".py",
   "mimetype": "text/x-python",
   "name": "python",
   "nbconvert_exporter": "python",
   "pygments_lexer": "ipython3",
   "version": "3.13.3"
  }
 },
 "nbformat": 4,
 "nbformat_minor": 5
}
