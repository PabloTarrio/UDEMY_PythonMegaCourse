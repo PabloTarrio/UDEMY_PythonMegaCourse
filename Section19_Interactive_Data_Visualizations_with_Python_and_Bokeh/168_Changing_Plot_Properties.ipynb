{
 "cells": [
  {
   "cell_type": "code",
   "execution_count": 3,
   "id": "59412c6d",
   "metadata": {},
   "outputs": [],
   "source": [
    "import pandas\n",
    "from bokeh.plotting import figure, output_file, show\n",
    "\n",
    "p = figure(width = 500, height = 500, tools = 'pan')\n",
    "\n",
    "p.title.text = \"Cool Data\"\n",
    "p.title.text_color = \"Gray\"\n",
    "p.title.text_font = \"times\"\n",
    "p.title.text_font_style = \"bold\"\n",
    "p.xaxis.minor_tick_line_color = None\n",
    "p.yaxis.minor_tick_line_color = None\n",
    "p.xaxis.axis_label = \"Date\"\n",
    "p.yaxis.axis_label = \"Intensity\"\n",
    "\n",
    "p.line ([1, 2, 3], [4, 5, 6])\n",
    "output_file (\"./output/graph.html\")\n",
    "\n",
    "show (p)\n"
   ]
  }
 ],
 "metadata": {
  "kernelspec": {
   "display_name": "UDEMY_PythonMegaCourse.venv",
   "language": "python",
   "name": "python3"
  },
  "language_info": {
   "codemirror_mode": {
    "name": "ipython",
    "version": 3
   },
   "file_extension": ".py",
   "mimetype": "text/x-python",
   "name": "python",
   "nbconvert_exporter": "python",
   "pygments_lexer": "ipython3",
   "version": "3.13.3"
  }
 },
 "nbformat": 4,
 "nbformat_minor": 5
}
