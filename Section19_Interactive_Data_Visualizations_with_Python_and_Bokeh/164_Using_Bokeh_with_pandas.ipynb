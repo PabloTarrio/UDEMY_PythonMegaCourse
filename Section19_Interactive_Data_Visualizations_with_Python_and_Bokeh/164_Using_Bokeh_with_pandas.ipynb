{
 "cells": [
  {
   "cell_type": "code",
   "execution_count": null,
   "id": "0f338916",
   "metadata": {},
   "outputs": [
    {
     "name": "stderr",
     "output_type": "stream",
     "text": [
      "BokehDeprecationWarning: 'triangle() method' was deprecated in Bokeh 3.4.0 and will be removed, use \"scatter(marker='triangle', ...) instead\" instead.\n"
     ]
    }
   ],
   "source": [
    "# WORKING A BASIC BOKEH LINE GRAPH\n",
    "# Importar BIBLIOTECAS\n",
    "from bokeh.plotting import figure\n",
    "from bokeh.io import output_file, show\n",
    "\n",
    "# Prepare some data for representing with bokeh\n",
    "x = [1, 2, 3, 4, 5]\n",
    "y = [6, 7, 8, 9, 10]\n",
    "\n",
    "# Prepare the output file\n",
    "output_file(\"./output/Line.html\")\n",
    "\n",
    "# Create figure object\n",
    "f = figure()\n",
    "\n",
    "# Create line plot\n",
    "f.line(x, y)\n",
    "\n",
    "# Show the object\n",
    "show(f)"
   ]
  },
  {
   "cell_type": "code",
   "execution_count": 4,
   "id": "09aabc5b",
   "metadata": {},
   "outputs": [],
   "source": [
    "# USING BNOKEH WITH PANDAS\n",
    "# BIBLIOTECAS y LIBRERÍAS\n",
    "from bokeh.plotting import figure\n",
    "from bokeh.io import output_file, show\n",
    "import pandas\n",
    "\n",
    "# Prepare some data\n",
    "df = pandas.read_csv (\"./resources/data.csv\")\n",
    "x = df[\"x\"]\n",
    "y = df[\"y\"]\n",
    "\n",
    "# Prepare the ouput file\n",
    "output_file (\"./output/line_with_pandas.html\")\n",
    "\n",
    "# Crear el objeto figura\n",
    "f = figure()\n",
    "\n",
    "# Create line plot in file\n",
    "f.line(x, y)\n",
    "\n",
    "# Show the object\n",
    "show(f)\n"
   ]
  },
  {
   "cell_type": "code",
   "execution_count": 7,
   "id": "1d0b796a",
   "metadata": {},
   "outputs": [
    {
     "data": {
      "text/plain": [
       "pandas.core.series.Series"
      ]
     },
     "execution_count": 7,
     "metadata": {},
     "output_type": "execute_result"
    }
   ],
   "source": [
    "type (df[\"y\"])"
   ]
  }
 ],
 "metadata": {
  "kernelspec": {
   "display_name": "UDEMY_PythonMegaCourse.venv",
   "language": "python",
   "name": "python3"
  },
  "language_info": {
   "codemirror_mode": {
    "name": "ipython",
    "version": 3
   },
   "file_extension": ".py",
   "mimetype": "text/x-python",
   "name": "python",
   "nbconvert_exporter": "python",
   "pygments_lexer": "ipython3",
   "version": "3.13.3"
  }
 },
 "nbformat": 4,
 "nbformat_minor": 5
}
