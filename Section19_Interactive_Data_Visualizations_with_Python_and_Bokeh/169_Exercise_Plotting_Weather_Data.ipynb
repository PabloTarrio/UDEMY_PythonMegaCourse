{
 "cells": [
  {
   "cell_type": "markdown",
   "id": "7f0362f1",
   "metadata": {},
   "source": [
    "EXERCISE: PLOTTING WEATHER DATA\n",
    "\n",
    "Produce the following graph using the data from this Excel file: https://github.com/pythonizing/data/raw/master/verlegenhuken.xlsx\n",
    "\n",
    "Some notes:\n",
    "Temperature and pressure values in the Excel file have a scale factor of 10; you'll have to divide those values by 10 to get the actual observations.\n",
    "And, yes, you can set your own fonts and colors, but be accurate with the rest of the plot elements."
   ]
  },
  {
   "cell_type": "code",
   "execution_count": 36,
   "id": "65cb519d",
   "metadata": {},
   "outputs": [],
   "source": [
    "import pandas\n",
    "from bokeh.plotting import figure, output_file, show\n",
    "\n",
    "# PANDAS - Importar los datos del archivo\n",
    "dataF = pandas.read_excel(\"./resources/verlegenhuken.xlsx\", sheet_name= 0)\n",
    "# Establecemos las columndas dentro del DataFrame que queremos mostrar - Es necesario dividir entre 10 ya que los datos son integer.\n",
    "temperature = dataF[\"Temperature\"]/10.0\n",
    "pressure = dataF[\"Pressure\"]/10.0\n",
    "\n",
    "# BOKEH - Establecer el archivo de salida para mostrar el gráfico\n",
    "output_file (\"./output/Ex2_Weather.html\")\n",
    "# BOKEH - Crear el objeto figura\n",
    "#           Propiedades de ancho y alto de la gráfica a representar\n",
    "f = figure(width= 1000, height= 1000, tools= 'pan')\n",
    "# BOKEH - Graficar los datos estableciendo los ejes correspondientes\n",
    "#       Usamos el método \"dot\" ya que los valores representados se adaptan a este.\n",
    "f.scatter(x= temperature, y=pressure, color= \"blue\", size= 2)\n",
    "\n",
    "# BOKEH - Establecemos las propiedades\n",
    "# BOKEH - Propiedades - Título\n",
    "f.title.text = \"Temperature and Air Pressure\"\n",
    "f.title.text_font = \"arial\"\n",
    "f.title.text_color = \"gray\"\n",
    "f.title.text_font_style = \"bold\"\n",
    "f.title.text_font_size = \"30px\"\n",
    "# BOKEH - Propiedades - Eje X\n",
    "f.xaxis.axis_label = \"Temperature (ºC)\"\n",
    "f.xaxis.axis_label_text_font = \"arial\"\n",
    "f.xaxis.axis_label_text_font_size = \"20px\"\n",
    "f.xaxis.axis_label_text_font_style = \"bold italic\"\n",
    "f.xaxis.minor_tick_line_color = None\n",
    "f.xaxis.major_label_text_font = \"arial\"\n",
    "f.xaxis.major_label_text_font_size = \"15px\"\n",
    "f.xaxis.major_label_text_font_style = \"bold\"\n",
    "# BOKEH - Propiedades - Eje Y\n",
    "f.yaxis.axis_label = \"Pressure (hPa)\"\n",
    "f.yaxis.axis_label_text_font = \"arial\"\n",
    "f.yaxis.axis_label_text_font_size = \"20px\"\n",
    "f.yaxis.axis_label_text_font_style = \"bold italic\"\n",
    "f.yaxis.minor_tick_line_color = None\n",
    "f.yaxis.major_label_text_font = \"arial\"\n",
    "f.yaxis.major_label_text_font_size = \"15px\"\n",
    "f.yaxis.major_label_text_font_style = \"bold\"\n",
    "\n",
    "# BOKEH - Mostrar la gráfica\n",
    "show(f)"
   ]
  },
  {
   "cell_type": "code",
   "execution_count": null,
   "id": "99c39b24",
   "metadata": {},
   "outputs": [],
   "source": []
  }
 ],
 "metadata": {
  "kernelspec": {
   "display_name": "UDEMY_PythonMegaCourse.venv",
   "language": "python",
   "name": "python3"
  },
  "language_info": {
   "codemirror_mode": {
    "name": "ipython",
    "version": 3
   },
   "file_extension": ".py",
   "mimetype": "text/x-python",
   "name": "python",
   "nbconvert_exporter": "python",
   "pygments_lexer": "ipython3",
   "version": "3.13.3"
  }
 },
 "nbformat": 4,
 "nbformat_minor": 5
}
