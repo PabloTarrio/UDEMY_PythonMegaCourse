{
 "cells": [
  {
   "cell_type": "code",
   "execution_count": 1,
   "id": "0b5a56cb-3adb-4094-be2d-cf2d9fa04496",
   "metadata": {},
   "outputs": [],
   "source": [
    "# Creamos un array en Python"
   ]
  },
  {
   "cell_type": "code",
   "execution_count": 2,
   "id": "9fc001ff-2c6f-47c7-9d1e-4fe30159beed",
   "metadata": {},
   "outputs": [
    {
     "data": {
      "text/plain": [
       "[[123, 12, 123, 12, 123], [], []]"
      ]
     },
     "execution_count": 2,
     "metadata": {},
     "output_type": "execute_result"
    }
   ],
   "source": [
    "[[123,12,123,12,123],[],[]]"
   ]
  },
  {
   "cell_type": "code",
   "execution_count": 3,
   "id": "6294a3dd-ae2d-44b2-b907-35293f2c78fa",
   "metadata": {},
   "outputs": [],
   "source": [
    "# Ahora creamos un objeto con NUMPY, que aunque tiene apareciencia de un array, no lo es, ya que su tipo es un objeto de numpy\n",
    "#   como podemos ver en su tipo."
   ]
  },
  {
   "cell_type": "code",
   "execution_count": 4,
   "id": "4c206286-a8ac-43b8-8aa9-4907a403c7c4",
   "metadata": {},
   "outputs": [
    {
     "data": {
      "text/plain": [
       "array([ 0,  1,  2,  3,  4,  5,  6,  7,  8,  9, 10, 11, 12, 13, 14, 15, 16,\n",
       "       17, 18, 19, 20, 21, 22, 23, 24, 25, 26])"
      ]
     },
     "execution_count": 4,
     "metadata": {},
     "output_type": "execute_result"
    }
   ],
   "source": [
    "import numpy\n",
    "n = numpy.arange(27)\n",
    "n"
   ]
  },
  {
   "cell_type": "code",
   "execution_count": 5,
   "id": "68b0372d-2edd-473a-832c-72ba8e7a9975",
   "metadata": {},
   "outputs": [
    {
     "data": {
      "text/plain": [
       "numpy.ndarray"
      ]
     },
     "execution_count": 5,
     "metadata": {},
     "output_type": "execute_result"
    }
   ],
   "source": [
    "type(n)"
   ]
  },
  {
   "cell_type": "code",
   "execution_count": 6,
   "id": "97b66e44-7c82-42a7-98d0-9f328ba5a9ba",
   "metadata": {},
   "outputs": [
    {
     "name": "stdout",
     "output_type": "stream",
     "text": [
      "[ 0  1  2  3  4  5  6  7  8  9 10 11 12 13 14 15 16 17 18 19 20 21 22 23\n",
      " 24 25 26]\n"
     ]
    }
   ],
   "source": [
    "print(n)"
   ]
  },
  {
   "cell_type": "code",
   "execution_count": 7,
   "id": "9b4ff064-74b8-4511-9a5d-68cca0bf6cab",
   "metadata": {
    "collapsed": true,
    "jupyter": {
     "outputs_hidden": true
    },
    "scrolled": true
   },
   "outputs": [
    {
     "data": {
      "text/plain": [
       "array([[ 0,  1,  2,  3,  4,  5,  6,  7,  8],\n",
       "       [ 9, 10, 11, 12, 13, 14, 15, 16, 17],\n",
       "       [18, 19, 20, 21, 22, 23, 24, 25, 26]])"
      ]
     },
     "execution_count": 7,
     "metadata": {},
     "output_type": "execute_result"
    }
   ],
   "source": [
    "n.reshape(3,9)"
   ]
  },
  {
   "cell_type": "code",
   "execution_count": 8,
   "id": "4c749ce9-253f-4778-8ec0-a1196b37347b",
   "metadata": {
    "collapsed": true,
    "jupyter": {
     "outputs_hidden": true
    },
    "scrolled": true
   },
   "outputs": [
    {
     "data": {
      "text/plain": [
       "array([[[ 0,  1,  2],\n",
       "        [ 3,  4,  5],\n",
       "        [ 6,  7,  8]],\n",
       "\n",
       "       [[ 9, 10, 11],\n",
       "        [12, 13, 14],\n",
       "        [15, 16, 17]],\n",
       "\n",
       "       [[18, 19, 20],\n",
       "        [21, 22, 23],\n",
       "        [24, 25, 26]]])"
      ]
     },
     "execution_count": 8,
     "metadata": {},
     "output_type": "execute_result"
    }
   ],
   "source": [
    "n.reshape(3,3,3)"
   ]
  },
  {
   "cell_type": "code",
   "execution_count": 9,
   "id": "64495e5a-8a2a-4676-9981-11e0d1ec94ee",
   "metadata": {
    "collapsed": true,
    "jupyter": {
     "outputs_hidden": true
    },
    "scrolled": true
   },
   "outputs": [
    {
     "name": "stdout",
     "output_type": "stream",
     "text": [
      "<class 'numpy.ndarray'>\n",
      "[ 0  1  2  3  4  5  6  7  8  9 10 11 12 13 14 15 16 17 18 19 20 21 22 23\n",
      " 24 25 26]\n"
     ]
    }
   ],
   "source": [
    "print (type (n))\n",
    "print (n)"
   ]
  },
  {
   "cell_type": "code",
   "execution_count": 10,
   "id": "8b8f8c89-aee8-4fd9-841a-3999fe53dda5",
   "metadata": {},
   "outputs": [],
   "source": [
    "# OPEN CV - Importamos el paquete y cargamos una imagen desde el directorio ./resources\n",
    "#     con el parámetro 0 indicamos que la imagen está en greysacle\n",
    "#     con el parámetro 1 indicaríamos que está en BGR -> OJO NO ES RGB\n",
    "# En la variable guardamos los datos numñericos que representan la imagen"
   ]
  },
  {
   "cell_type": "code",
   "execution_count": 11,
   "id": "f27577ee-6029-4c2a-9e82-6871d210c1ae",
   "metadata": {},
   "outputs": [],
   "source": [
    "import cv2"
   ]
  },
  {
   "cell_type": "code",
   "execution_count": null,
   "id": "5ce06ce8-137d-4ff2-b3b2-701b02020117",
   "metadata": {},
   "outputs": [],
   "source": [
    "# Al imprimirlo en escala de grises 0 representa el negro y 255 el blanco, con valores intermedios de gris."
   ]
  },
  {
   "cell_type": "code",
   "execution_count": 19,
   "id": "3385fbc2-c3e1-4547-93b6-34d830437fb2",
   "metadata": {},
   "outputs": [
    {
     "data": {
      "text/plain": [
       "array([[187, 158, 104, 121, 143],\n",
       "       [198, 125, 255, 255, 147],\n",
       "       [209, 134, 255,  97, 182]], dtype=uint8)"
      ]
     },
     "execution_count": 19,
     "metadata": {},
     "output_type": "execute_result"
    }
   ],
   "source": [
    "im_g = cv2.imread(\"./resources/smallgray.png\", 0)\n",
    "im_g"
   ]
  },
  {
   "cell_type": "code",
   "execution_count": 22,
   "id": "8fb91289-2711-422b-a252-32019f660a5b",
   "metadata": {},
   "outputs": [],
   "source": [
    "# Al imprimirlo en BGR se generan tres array que representan los valores en Blue, Green y Red."
   ]
  },
  {
   "cell_type": "code",
   "execution_count": 23,
   "id": "3831f640-a6bd-4235-b86b-f3d8743e640c",
   "metadata": {},
   "outputs": [
    {
     "data": {
      "text/plain": [
       "array([[[187, 187, 187],\n",
       "        [158, 158, 158],\n",
       "        [104, 104, 104],\n",
       "        [121, 121, 121],\n",
       "        [143, 143, 143]],\n",
       "\n",
       "       [[198, 198, 198],\n",
       "        [125, 125, 125],\n",
       "        [255, 255, 255],\n",
       "        [255, 255, 255],\n",
       "        [147, 147, 147]],\n",
       "\n",
       "       [[209, 209, 209],\n",
       "        [134, 134, 134],\n",
       "        [255, 255, 255],\n",
       "        [ 97,  97,  97],\n",
       "        [182, 182, 182]]], dtype=uint8)"
      ]
     },
     "execution_count": 23,
     "metadata": {},
     "output_type": "execute_result"
    }
   ],
   "source": [
    "im_g = cv2.imread(\"./resources/smallgray.png\", 1)\n",
    "im_g"
   ]
  },
  {
   "cell_type": "code",
   "execution_count": 24,
   "id": "47425819-1ca9-4dee-8daf-1052bfb7c480",
   "metadata": {},
   "outputs": [
    {
     "data": {
      "text/plain": [
       "True"
      ]
     },
     "execution_count": 24,
     "metadata": {},
     "output_type": "execute_result"
    }
   ],
   "source": [
    "cv2.imwrite(\"./resources/newsmallgray.png\",im_g)"
   ]
  },
  {
   "cell_type": "code",
   "execution_count": 28,
   "id": "2327a9df-fe64-4a57-b6b2-c78472e99556",
   "metadata": {},
   "outputs": [
    {
     "data": {
      "text/plain": [
       "array([[187, 158, 104, 121, 143],\n",
       "       [198, 125, 255, 255, 147],\n",
       "       [209, 134, 255,  97, 182]], dtype=uint8)"
      ]
     },
     "execution_count": 28,
     "metadata": {},
     "output_type": "execute_result"
    }
   ],
   "source": [
    "im_g = cv2.imread(\"./resources/smallgray.png\", 0)\n",
    "im_g"
   ]
  },
  {
   "cell_type": "code",
   "execution_count": null,
   "id": "fd48ce19-2840-423b-89a5-dee6ea2a58ff",
   "metadata": {},
   "outputs": [],
   "source": [
    "# Vamos a ver como podemos ver cada uno de los datos del array imagen\n",
    "# im_g[0:2] muestra las dos primeras filas del array"
   ]
  },
  {
   "cell_type": "code",
   "execution_count": 31,
   "id": "c55bc7ba-1d1d-4ba4-9a24-a97fec6bd468",
   "metadata": {},
   "outputs": [
    {
     "data": {
      "text/plain": [
       "array([[187, 158, 104, 121, 143],\n",
       "       [198, 125, 255, 255, 147]], dtype=uint8)"
      ]
     },
     "execution_count": 31,
     "metadata": {},
     "output_type": "execute_result"
    }
   ],
   "source": [
    "im_g[0:2]"
   ]
  },
  {
   "cell_type": "code",
   "execution_count": null,
   "id": "27af91de-bae1-47a9-9506-655b8fd36bab",
   "metadata": {},
   "outputs": [],
   "source": [
    "# im_g[0:2, 2:4] tras una \",\" podemos elegir los elementos que mostramos dentro de cada uno de los arrays."
   ]
  },
  {
   "cell_type": "code",
   "execution_count": 33,
   "id": "e5d9a013-5d9d-4a9d-802b-eef18763e566",
   "metadata": {},
   "outputs": [
    {
     "data": {
      "text/plain": [
       "array([[104, 121],\n",
       "       [255, 255]], dtype=uint8)"
      ]
     },
     "execution_count": 33,
     "metadata": {},
     "output_type": "execute_result"
    }
   ],
   "source": [
    "im_g[0:2, 2:4]"
   ]
  },
  {
   "cell_type": "code",
   "execution_count": 35,
   "id": "17614d37-2b91-4d43-bfd1-f06b1ea157d8",
   "metadata": {},
   "outputs": [],
   "source": [
    "# Podemos mostrar el numero de (filas, columnas) del array"
   ]
  },
  {
   "cell_type": "code",
   "execution_count": 36,
   "id": "1d82dc99-d575-441a-9c79-2c5511cf1d6a",
   "metadata": {},
   "outputs": [
    {
     "data": {
      "text/plain": [
       "(3, 5)"
      ]
     },
     "execution_count": 36,
     "metadata": {},
     "output_type": "execute_result"
    }
   ],
   "source": [
    "im_g.shape"
   ]
  },
  {
   "cell_type": "code",
   "execution_count": null,
   "id": "c94e6384-6f87-4fe1-b735-af01a78c40f9",
   "metadata": {},
   "outputs": [],
   "source": [
    "# Mostramos el primer elemento de todos los elementos"
   ]
  },
  {
   "cell_type": "code",
   "execution_count": 38,
   "id": "a75fea8c-4cf9-4ba1-bbee-5b4febb3cbc0",
   "metadata": {},
   "outputs": [
    {
     "data": {
      "text/plain": [
       "array([[187],\n",
       "       [198],\n",
       "       [209]], dtype=uint8)"
      ]
     },
     "execution_count": 38,
     "metadata": {},
     "output_type": "execute_result"
    }
   ],
   "source": [
    "im_g[:,0:1]"
   ]
  },
  {
   "cell_type": "code",
   "execution_count": 41,
   "id": "d1fc5ece-7984-4311-9264-f101abed9583",
   "metadata": {},
   "outputs": [],
   "source": [
    "# Mostramos un unico elemento, en este caso mostramos el elemento 4 del array 2 (el último elemento del último array)"
   ]
  },
  {
   "cell_type": "code",
   "execution_count": 42,
   "id": "1e39ce32-1504-463c-ae0a-1c30d83b630c",
   "metadata": {},
   "outputs": [
    {
     "data": {
      "text/plain": [
       "np.uint8(182)"
      ]
     },
     "execution_count": 42,
     "metadata": {},
     "output_type": "execute_result"
    }
   ],
   "source": [
    "im_g[2,4]"
   ]
  },
  {
   "cell_type": "code",
   "execution_count": null,
   "id": "eb7da3b1-dc0c-4116-adb0-a2b0acd2ec91",
   "metadata": {},
   "outputs": [],
   "source": [
    "# Imprimimos los datos a través de una iteracion"
   ]
  },
  {
   "cell_type": "code",
   "execution_count": 45,
   "id": "806e6fef-8399-47dd-9096-c18c743c4177",
   "metadata": {},
   "outputs": [
    {
     "name": "stdout",
     "output_type": "stream",
     "text": [
      "[187 158 104 121 143]\n",
      "[198 125 255 255 147]\n",
      "[209 134 255  97 182]\n"
     ]
    }
   ],
   "source": [
    "for i in im_g:\n",
    "    print (i)"
   ]
  },
  {
   "cell_type": "code",
   "execution_count": 47,
   "id": "76770c90-1206-46d3-a6f2-78732e7b36e3",
   "metadata": {},
   "outputs": [],
   "source": [
    "# Podemos iterar en la matriz traspuesta"
   ]
  },
  {
   "cell_type": "code",
   "execution_count": 48,
   "id": "90dfc229-4223-4bb0-bc6b-3e57bf9ca91d",
   "metadata": {},
   "outputs": [
    {
     "name": "stdout",
     "output_type": "stream",
     "text": [
      "[187 198 209]\n",
      "[158 125 134]\n",
      "[104 255 255]\n",
      "[121 255  97]\n",
      "[143 147 182]\n"
     ]
    }
   ],
   "source": [
    "for j in im_g.T:\n",
    "    print(j)"
   ]
  },
  {
   "cell_type": "code",
   "execution_count": null,
   "id": "8c06c51e-c527-44e1-9bcb-442e5ca0fc9e",
   "metadata": {},
   "outputs": [],
   "source": [
    "# Tambien podemos imprimir cada uno de los elmentos individualemnte"
   ]
  },
  {
   "cell_type": "code",
   "execution_count": 50,
   "id": "fa558914-0476-4e90-9f65-1aa4c4475795",
   "metadata": {},
   "outputs": [
    {
     "name": "stdout",
     "output_type": "stream",
     "text": [
      "187\n",
      "158\n",
      "104\n",
      "121\n",
      "143\n",
      "198\n",
      "125\n",
      "255\n",
      "255\n",
      "147\n",
      "209\n",
      "134\n",
      "255\n",
      "97\n",
      "182\n"
     ]
    }
   ],
   "source": [
    "for i in im_g.flat:\n",
    "    print (i)"
   ]
  },
  {
   "cell_type": "code",
   "execution_count": null,
   "id": "908e3e5c-3c30-4825-b54e-978929f1a837",
   "metadata": {},
   "outputs": [],
   "source": [
    "# STACKING AND SPLITTING ARRAYS WITH NUMPY"
   ]
  },
  {
   "cell_type": "code",
   "execution_count": 52,
   "id": "13d56ad9-3b10-4589-bbf9-cb8939f8cab7",
   "metadata": {},
   "outputs": [
    {
     "data": {
      "text/plain": [
       "array([[187, 158, 104, 121, 143],\n",
       "       [198, 125, 255, 255, 147],\n",
       "       [209, 134, 255,  97, 182]], dtype=uint8)"
      ]
     },
     "execution_count": 52,
     "metadata": {},
     "output_type": "execute_result"
    }
   ],
   "source": [
    "im_g"
   ]
  },
  {
   "cell_type": "code",
   "execution_count": null,
   "id": "636fba12-a388-4b0e-8fe6-b81f88c1cc02",
   "metadata": {},
   "outputs": [],
   "source": [
    "# HSTACK concatena arrays horizontalmente"
   ]
  },
  {
   "cell_type": "code",
   "execution_count": 56,
   "id": "0511a3e9-0970-4070-ab11-05f05c1e9d27",
   "metadata": {},
   "outputs": [
    {
     "data": {
      "text/plain": [
       "array([[187, 158, 104, 121, 143, 187, 158, 104, 121, 143],\n",
       "       [198, 125, 255, 255, 147, 198, 125, 255, 255, 147],\n",
       "       [209, 134, 255,  97, 182, 209, 134, 255,  97, 182]], dtype=uint8)"
      ]
     },
     "execution_count": 56,
     "metadata": {},
     "output_type": "execute_result"
    }
   ],
   "source": [
    "ims = numpy.hstack((im_g, im_g))\n",
    "ims"
   ]
  },
  {
   "cell_type": "code",
   "execution_count": null,
   "id": "0db7e5ea-486a-4e9d-a1b6-57d51b4f9082",
   "metadata": {},
   "outputs": [],
   "source": [
    "# VSTACK concatena arrays verticalmente"
   ]
  },
  {
   "cell_type": "code",
   "execution_count": 58,
   "id": "240d020d-daa4-4a7f-92f3-89000beb9733",
   "metadata": {},
   "outputs": [
    {
     "data": {
      "text/plain": [
       "array([[187, 158, 104, 121, 143],\n",
       "       [198, 125, 255, 255, 147],\n",
       "       [209, 134, 255,  97, 182],\n",
       "       [187, 158, 104, 121, 143],\n",
       "       [198, 125, 255, 255, 147],\n",
       "       [209, 134, 255,  97, 182]], dtype=uint8)"
      ]
     },
     "execution_count": 58,
     "metadata": {},
     "output_type": "execute_result"
    }
   ],
   "source": [
    "ims = numpy.vstack ((im_g, im_g))\n",
    "ims"
   ]
  },
  {
   "cell_type": "code",
   "execution_count": 59,
   "id": "1bb70c1e-79a3-4ab0-8f56-53908949f880",
   "metadata": {},
   "outputs": [],
   "source": [
    "# Para concatenar dos arrays con hstack o vstack deben tener exactamente las mismas dimensiones."
   ]
  },
  {
   "cell_type": "code",
   "execution_count": 64,
   "id": "a0ff8902-fb9a-4408-82fa-5ea100c96058",
   "metadata": {},
   "outputs": [],
   "source": [
    "# HSPLIT parte un array en otros más pequeños\n",
    "#     La división tiene que poder realizarse en arrays iguales, en el ejemplo que vemos abajo no es posible dividir horizontalmente en 3, pero si en\n",
    "#     5, con lo que resultan las 5 columnas."
   ]
  },
  {
   "cell_type": "code",
   "execution_count": 65,
   "id": "96f1bbf8-e57e-44d4-a397-6c69d10979c2",
   "metadata": {},
   "outputs": [
    {
     "data": {
      "text/plain": [
       "[array([[187],\n",
       "        [198],\n",
       "        [209],\n",
       "        [187],\n",
       "        [198],\n",
       "        [209]], dtype=uint8),\n",
       " array([[158],\n",
       "        [125],\n",
       "        [134],\n",
       "        [158],\n",
       "        [125],\n",
       "        [134]], dtype=uint8),\n",
       " array([[104],\n",
       "        [255],\n",
       "        [255],\n",
       "        [104],\n",
       "        [255],\n",
       "        [255]], dtype=uint8),\n",
       " array([[121],\n",
       "        [255],\n",
       "        [ 97],\n",
       "        [121],\n",
       "        [255],\n",
       "        [ 97]], dtype=uint8),\n",
       " array([[143],\n",
       "        [147],\n",
       "        [182],\n",
       "        [143],\n",
       "        [147],\n",
       "        [182]], dtype=uint8)]"
      ]
     },
     "execution_count": 65,
     "metadata": {},
     "output_type": "execute_result"
    }
   ],
   "source": [
    "lst = numpy.hsplit (ims, 5)\n",
    "lst"
   ]
  },
  {
   "cell_type": "code",
   "execution_count": null,
   "id": "5ec580b5-c49a-4412-ba71-a3985fbe9019",
   "metadata": {},
   "outputs": [],
   "source": [
    "# El resultado de HSPLIT es una lista Python, no un objeto Numpy"
   ]
  },
  {
   "cell_type": "code",
   "execution_count": 66,
   "id": "2ada4e7b-55ba-4de8-bfc9-35f88fd39556",
   "metadata": {},
   "outputs": [
    {
     "data": {
      "text/plain": [
       "list"
      ]
     },
     "execution_count": 66,
     "metadata": {},
     "output_type": "execute_result"
    }
   ],
   "source": [
    "type (lst)"
   ]
  }
 ],
 "metadata": {
  "kernelspec": {
   "display_name": "Python 3 (ipykernel)",
   "language": "python",
   "name": "python3"
  },
  "language_info": {
   "codemirror_mode": {
    "name": "ipython",
    "version": 3
   },
   "file_extension": ".py",
   "mimetype": "text/x-python",
   "name": "python",
   "nbconvert_exporter": "python",
   "pygments_lexer": "ipython3",
   "version": "3.13.3"
  }
 },
 "nbformat": 4,
 "nbformat_minor": 5
}
